{
 "cells": [
  {
   "cell_type": "markdown",
   "metadata": {},
   "source": [
    "# Introduction\n",
    "\n",
    "This code takes each file in the repository, adds an ASCII prefix, and converts it to GeoTIFF format, enhancing compatibility for GIS and Remote Sensing applications.\n",
    "\n",
    "just define folder path\n"
   ]
  },
  {
   "cell_type": "code",
   "execution_count": null,
   "metadata": {},
   "outputs": [],
   "source": [
    "#add asci\n",
    "import os\n",
    "\n",
    "def main():\n",
    "    path = r\"E:\\PHD_doc\\software\\NCLUEs\\CLUE-S manual and version2\\data_sample_clue_s\\2020-20258\" ## define folder path\n",
    "    for filename in os.listdir(path):\n",
    "        new_name = filename + \".asc\"\n",
    "        my_source = os.path.join(path, filename)\n",
    "        my_dest = os.path.join(path, new_name)\n",
    "        os.rename(my_source, my_dest)\n",
    "\n",
    "if __name__ == '__main__':\n",
    "    main()\n"
   ]
  },
  {
   "cell_type": "code",
   "execution_count": null,
   "metadata": {},
   "outputs": [],
   "source": [
    "#remove ascii\n",
    "import os\n",
    "\n",
    "def main():\n",
    "    path = r\"E:\\PHD_doc\\software\\NCLUEs\\CLUE-S manual and version2\\data_sample_clue_s\\reult\"\n",
    "    suffix = \"asc\"\n",
    "\n",
    "    for filename in os.listdir(path):\n",
    "        if filename.endswith(suffix):\n",
    "            new_name = filename[:-len(suffix)]\n",
    "            my_source = os.path.join(path, filename)\n",
    "            my_dest = os.path.join(path, new_name)\n",
    "            os.rename(my_source, my_dest)\n",
    "\n",
    "if __name__ == '__main__':\n",
    "    main()\n"
   ]
  },
  {
   "cell_type": "code",
   "execution_count": null,
   "metadata": {},
   "outputs": [
    {
     "name": "stdout",
     "output_type": "stream",
     "text": [
      "Converted Cov_all.0.asc to GeoTIFF\n",
      "Converted cov_all.1.asc to GeoTIFF\n",
      "Converted cov_all.10.asc to GeoTIFF\n",
      "Converted cov_all.11.asc to GeoTIFF\n",
      "Converted cov_all.12.asc to GeoTIFF\n",
      "Converted cov_all.13.asc to GeoTIFF\n",
      "Converted cov_all.14.asc to GeoTIFF\n",
      "Converted cov_all.15.asc to GeoTIFF\n",
      "Converted cov_all.16.asc to GeoTIFF\n",
      "Converted cov_all.17.asc to GeoTIFF\n",
      "Converted cov_all.18.asc to GeoTIFF\n",
      "Converted cov_all.19.asc to GeoTIFF\n",
      "Converted cov_all.2.asc to GeoTIFF\n",
      "Converted cov_all.20.asc to GeoTIFF\n",
      "Converted cov_all.21.asc to GeoTIFF\n",
      "Converted cov_all.22.asc to GeoTIFF\n",
      "Converted cov_all.23.asc to GeoTIFF\n",
      "Converted cov_all.24.asc to GeoTIFF\n",
      "Converted cov_all.25.asc to GeoTIFF\n",
      "Converted cov_all.26.asc to GeoTIFF\n",
      "Converted cov_all.27.asc to GeoTIFF\n",
      "Converted cov_all.28.asc to GeoTIFF\n",
      "Converted cov_all.29.asc to GeoTIFF\n",
      "Converted cov_all.3.asc to GeoTIFF\n",
      "Converted cov_all.30.asc to GeoTIFF\n",
      "Converted cov_all.31.asc to GeoTIFF\n",
      "Converted cov_all.32.asc to GeoTIFF\n",
      "Converted cov_all.33.asc to GeoTIFF\n",
      "Converted cov_all.34.asc to GeoTIFF\n",
      "Converted cov_all.35.asc to GeoTIFF\n",
      "Converted cov_all.36.asc to GeoTIFF\n",
      "Converted cov_all.4.asc to GeoTIFF\n",
      "Converted cov_all.5.asc to GeoTIFF\n",
      "Converted cov_all.6.asc to GeoTIFF\n",
      "Converted cov_all.7.asc to GeoTIFF\n",
      "Converted cov_all.8.asc to GeoTIFF\n",
      "Converted cov_all.9.asc to GeoTIFF\n"
     ]
    }
   ],
   "source": [
    "import os\n",
    "from osgeo import gdal, osr\n",
    "\n",
    "def ascii_to_geotiff(ascii_file, output_file):\n",
    "    # Open the ASCII file with GDAL\n",
    "    src_ds = gdal.Open(ascii_file)\n",
    "    if src_ds is None:\n",
    "        raise ValueError(f\"GDAL cannot open the file: {ascii_file}\")\n",
    "\n",
    "    # Create the GeoTIFF file\n",
    "    driver = gdal.GetDriverByName('GTiff')\n",
    "    dst_ds = driver.CreateCopy(output_file, src_ds, 0)\n",
    "    if dst_ds is None:\n",
    "        raise ValueError(f\"Failed to create GeoTIFF for: {ascii_file}\")\n",
    "\n",
    "    # Close datasets\n",
    "    dst_ds = None\n",
    "    src_ds = None\n",
    "\n",
    "def convert_folder(input_folder, output_folder):\n",
    "    for filename in os.listdir(input_folder):\n",
    "        if filename.lower().endswith(\".asc\"):\n",
    "            ascii_file = os.path.join(input_folder, filename)\n",
    "            output_file = os.path.join(output_folder, filename.replace(\".asc\", \".tif\"))\n",
    "            try:\n",
    "                ascii_to_geotiff(ascii_file, output_file)\n",
    "                print(f\"Converted {filename} to GeoTIFF\")\n",
    "            except ValueError as e:\n",
    "                print(e)\n",
    "\n",
    "input_folder = r\"E:\\PHD_doc\\software\\NCLUEs\\CLUE-S manual and version2\\data_sample_clue_s\\2020-20258\"\n",
    "output_folder = r\"E:\\PHD_doc\\software\\NCLUEs\\CLUE-S manual and version2\\data_sample_clue_s\\2020-20258\\tiff\"\n",
    "convert_folder(input_folder, output_folder)"
   ]
  },
  {
   "cell_type": "code",
   "execution_count": null,
   "metadata": {},
   "outputs": [],
   "source": []
  }
 ],
 "metadata": {
  "kernelspec": {
   "display_name": "base",
   "language": "python",
   "name": "python3"
  },
  "language_info": {
   "codemirror_mode": {
    "name": "ipython",
    "version": 3
   },
   "file_extension": ".py",
   "mimetype": "text/x-python",
   "name": "python",
   "nbconvert_exporter": "python",
   "pygments_lexer": "ipython3",
   "version": "3.11.7"
  }
 },
 "nbformat": 4,
 "nbformat_minor": 2
}
