{
 "cells": [
  {
   "cell_type": "code",
   "execution_count": 6,
   "metadata": {},
   "outputs": [
    {
     "name": "stdout",
     "output_type": "stream",
     "text": [
      "Conversion complete: E:\\E\\PHD_doc\\software\\maxent\\Data\\Data raw\\Ascii\\aspect.tif.asc\n",
      "Conversion complete: E:\\E\\PHD_doc\\software\\maxent\\Data\\Data raw\\Ascii\\building.tif.asc\n",
      "Conversion complete: E:\\E\\PHD_doc\\software\\maxent\\Data\\Data raw\\Ascii\\dis_to_c.tif.asc\n",
      "Conversion complete: E:\\E\\PHD_doc\\software\\maxent\\Data\\Data raw\\Ascii\\dis_to_h.tif.asc\n",
      "Conversion complete: E:\\E\\PHD_doc\\software\\maxent\\Data\\Data raw\\Ascii\\dis_to_n.tif.asc\n",
      "Conversion complete: E:\\E\\PHD_doc\\software\\maxent\\Data\\Data raw\\Ascii\\dis_to_p.tif.asc\n",
      "Conversion complete: E:\\E\\PHD_doc\\software\\maxent\\Data\\Data raw\\Ascii\\dis_to_roads.tif.asc\n",
      "Conversion complete: E:\\E\\PHD_doc\\software\\maxent\\Data\\Data raw\\Ascii\\dis_to_s.tif.asc\n",
      "Conversion complete: E:\\E\\PHD_doc\\software\\maxent\\Data\\Data raw\\Ascii\\dis_to_s_1.tif.asc\n",
      "Conversion complete: E:\\E\\PHD_doc\\software\\maxent\\Data\\Data raw\\Ascii\\dis_to_w.tif.asc\n",
      "Conversion complete: E:\\E\\PHD_doc\\software\\maxent\\Data\\Data raw\\Ascii\\dis_to_wpp.tif.asc\n",
      "Conversion complete: E:\\E\\PHD_doc\\software\\maxent\\Data\\Data raw\\Ascii\\slope3.tif.asc\n"
     ]
    }
   ],
   "source": [
    "import os\n",
    "from osgeo import gdal, osr\n",
    "\n",
    "def convert_to_ascii(input_tif, output_asc):\n",
    "    # Open the input GeoTIFF file\n",
    "    ds = gdal.Open(input_tif)\n",
    "    \n",
    "    # Check if the file was opened successfully\n",
    "    if ds is None:\n",
    "        print(f\"Could not open {input_tif}\")\n",
    "        return\n",
    "\n",
    "    # Get the raster's projection and reproject it to GCS 1980 (WGS84 EPSG:4326)\n",
    "    source_proj = osr.SpatialReference(wkt=ds.GetProjection())\n",
    "    target_proj = osr.SpatialReference()\n",
    "    target_proj.ImportFromEPSG(4326)  # EPSG code for GCS 1980 World (WGS 84)\n",
    "\n",
    "    # Create a transformation\n",
    "    transform = osr.CoordinateTransformation(source_proj, target_proj)\n",
    "\n",
    "    # Set NODATA value to -9999\n",
    "    band = ds.GetRasterBand(1)  # Assuming a single-band raster\n",
    "    band.SetNoDataValue(-9999)\n",
    "    \n",
    "    # Create the output ASCII file with GDAL's ASCII format\n",
    "    driver = gdal.GetDriverByName(\"AAIGrid\")\n",
    "    output_ds = driver.CreateCopy(output_asc, ds, 0)\n",
    "    \n",
    "    # Close datasets\n",
    "    ds = None\n",
    "    output_ds = None\n",
    "\n",
    "    print(f\"Conversion complete: {output_asc}\")\n",
    "\n",
    "# Directory containing your input TIFF files\n",
    "input_dir = \"E:\\\\E\\\\PHD_doc\\\\software\\\\maxent\\\\Data\\\\Data raw\\\\Tif\"\n",
    "output_dir = \"E:\\\\E\\\\PHD_doc\\\\software\\\\maxent\\\\Data\\\\Data raw\\\\Ascii\"\n",
    "\n",
    "# Ensure the output directory exists\n",
    "os.makedirs(output_dir, exist_ok=True)\n",
    "\n",
    "# Process each .tif file in the input directory\n",
    "for filename in os.listdir(input_dir):\n",
    "    if filename.endswith(\".tif\"):\n",
    "        input_tif = os.path.join(input_dir, filename)\n",
    "        output_asc = os.path.join(output_dir, f\"{os.path.splitext(filename)[0]}.asc\")\n",
    "        convert_to_ascii(input_tif, output_asc)\n"
   ]
  },
  {
   "cell_type": "code",
   "execution_count": null,
   "metadata": {},
   "outputs": [],
   "source": []
  },
  {
   "cell_type": "code",
   "execution_count": null,
   "metadata": {},
   "outputs": [],
   "source": []
  },
  {
   "cell_type": "code",
   "execution_count": null,
   "metadata": {},
   "outputs": [],
   "source": []
  }
 ],
 "metadata": {
  "kernelspec": {
   "display_name": "base",
   "language": "python",
   "name": "python3"
  },
  "language_info": {
   "codemirror_mode": {
    "name": "ipython",
    "version": 3
   },
   "file_extension": ".py",
   "mimetype": "text/x-python",
   "name": "python",
   "nbconvert_exporter": "python",
   "pygments_lexer": "ipython3",
   "version": "3.11.7"
  }
 },
 "nbformat": 4,
 "nbformat_minor": 2
}
