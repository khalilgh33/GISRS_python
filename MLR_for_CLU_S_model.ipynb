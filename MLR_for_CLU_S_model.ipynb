{
  "nbformat": 4,
  "nbformat_minor": 0,
  "metadata": {
    "colab": {
      "provenance": [],
      "mount_file_id": "1F22fu97CnbhIvic2u-4tQcwhw6GkLyeX",
      "authorship_tag": "ABX9TyMDj39LlPaQZ/tSCFZmtI4J",
      "include_colab_link": true
    },
    "kernelspec": {
      "name": "python3",
      "display_name": "Python 3"
    },
    "language_info": {
      "name": "python"
    }
  },
  "cells": [
    {
      "cell_type": "markdown",
      "metadata": {
        "id": "view-in-github",
        "colab_type": "text"
      },
      "source": [
        "<a href=\"https://colab.research.google.com/github/khalilgh33/GISRS_python/blob/main/MLR_for_CLU_S_model.ipynb\" target=\"_parent\"><img src=\"https://colab.research.google.com/assets/colab-badge.svg\" alt=\"Open In Colab\"/></a>"
      ]
    },
    {
      "cell_type": "code",
      "execution_count": null,
      "metadata": {
        "id": "kCoZy4_G873q"
      },
      "outputs": [],
      "source": [
        "import os\n",
        "import pandas as pd\n",
        "import numpy as np\n",
        "import statsmodels.api as sm"
      ]
    },
    {
      "cell_type": "code",
      "source": [
        "data = pd.read_csv(r'/content/drive/MyDrive/CLUE-S/stat.csv')"
      ],
      "metadata": {
        "id": "fE1sI1qu9eSa"
      },
      "execution_count": null,
      "outputs": []
    },
    {
      "cell_type": "code",
      "source": [
        "data.shape\n",
        "print(data.info())"
      ],
      "metadata": {
        "id": "uwQciPC594YO",
        "colab": {
          "base_uri": "https://localhost:8080/"
        },
        "outputId": "1bbcf138-633c-40e0-a48e-e93c003aa6ed"
      },
      "execution_count": null,
      "outputs": [
        {
          "output_type": "stream",
          "name": "stdout",
          "text": [
            "<class 'pandas.core.frame.DataFrame'>\n",
            "RangeIndex: 101868 entries, 0 to 101867\n",
            "Data columns (total 23 columns):\n",
            " #   Column       Non-Null Count   Dtype  \n",
            "---  ------       --------------   -----  \n",
            " 0   sc1gr0.fil   101868 non-null  float64\n",
            " 1   sc1gr1.fil   101868 non-null  int64  \n",
            " 2   sc1gr2.fil   101868 non-null  float64\n",
            " 3   sc1gr3.fil   101868 non-null  float64\n",
            " 4   sc1gr4.fil   101868 non-null  float64\n",
            " 5   sc1gr5.fil   101868 non-null  float64\n",
            " 6   sc1gr6.fil   101868 non-null  float64\n",
            " 7   sc1gr7.fil   101868 non-null  float64\n",
            " 8   sc1gr8.fil   101868 non-null  float64\n",
            " 9   sc1gr9.fil   101868 non-null  float64\n",
            " 10  sc1gr10.fil  101868 non-null  float64\n",
            " 11  sc1gr11.fil  101868 non-null  float64\n",
            " 12  c0.fil       101868 non-null  int64  \n",
            " 13  c1.fil       101868 non-null  int64  \n",
            " 14  c2.fil       101868 non-null  int64  \n",
            " 15  c3.fil       101868 non-null  int64  \n",
            " 16  c4.fil       101868 non-null  int64  \n",
            " 17  c5.fil       101868 non-null  int64  \n",
            " 18  c7.fil       101868 non-null  int64  \n",
            " 19  c8.fil       101868 non-null  int64  \n",
            " 20  c9.fil       101868 non-null  int64  \n",
            " 21  c10.fil      101868 non-null  int64  \n",
            " 22  c11.fil      101868 non-null  int64  \n",
            "dtypes: float64(11), int64(12)\n",
            "memory usage: 17.9 MB\n",
            "None\n"
          ]
        }
      ]
    },
    {
      "cell_type": "code",
      "source": [
        "data_to_Array = data.to_numpy()\n",
        "data_to_Array.shape"
      ],
      "metadata": {
        "colab": {
          "base_uri": "https://localhost:8080/"
        },
        "id": "J0MpfzMO_0te",
        "outputId": "993edb01-3c0b-4a3c-f61a-0be715c660d6"
      },
      "execution_count": null,
      "outputs": [
        {
          "output_type": "execute_result",
          "data": {
            "text/plain": [
              "(101868, 23)"
            ]
          },
          "metadata": {},
          "execution_count": 64
        }
      ]
    },
    {
      "cell_type": "code",
      "source": [
        "X = data_to_Array[:,: 13]\n",
        "X = np.delete(X, 0, axis=1)\n",
        "X.shape"
      ],
      "metadata": {
        "colab": {
          "base_uri": "https://localhost:8080/"
        },
        "id": "Lw7XZNzG_-5f",
        "outputId": "5aadf7e8-8f11-46c8-ccbe-b284fdd25be5"
      },
      "execution_count": null,
      "outputs": [
        {
          "output_type": "execute_result",
          "data": {
            "text/plain": [
              "(101868, 12)"
            ]
          },
          "metadata": {},
          "execution_count": 65
        }
      ]
    },
    {
      "cell_type": "code",
      "source": [
        "from sklearn.preprocessing import StandardScaler\n",
        "scaler = StandardScaler()\n",
        "X_scaler = scaler.fit_transform(X)\n",
        "X_scaler.shape"
      ],
      "metadata": {
        "colab": {
          "base_uri": "https://localhost:8080/"
        },
        "id": "XZ70rqHfdKqN",
        "outputId": "bc0f17eb-fa01-450a-ed55-ac4d29252b9f"
      },
      "execution_count": null,
      "outputs": [
        {
          "output_type": "execute_result",
          "data": {
            "text/plain": [
              "(101868, 12)"
            ]
          },
          "metadata": {},
          "execution_count": 66
        }
      ]
    },
    {
      "cell_type": "code",
      "source": [
        "y100 = data_to_Array[:,12:13]\n",
        "y200 = data_to_Array[:,13:14]\n",
        "y310 = data_to_Array[:,14:15]\n",
        "y320 = data_to_Array[:,15:16]\n",
        "y330 = data_to_Array[:,16:17]\n",
        "y340 = data_to_Array[:,17:18]\n",
        "y350 = data_to_Array[:,18:19]\n",
        "y400 = data_to_Array[:,19:20]\n",
        "y500 = data_to_Array[:,20:21]\n",
        "y600 = data_to_Array[:,21:22]\n",
        "y700 = data_to_Array[:,22:23]\n",
        "y200"
      ],
      "metadata": {
        "colab": {
          "base_uri": "https://localhost:8080/"
        },
        "id": "sUP9KqhuAfJ7",
        "outputId": "359b2b85-2b21-457b-a1d4-c6c1159171aa"
      },
      "execution_count": null,
      "outputs": [
        {
          "output_type": "execute_result",
          "data": {
            "text/plain": [
              "array([[0.],\n",
              "       [0.],\n",
              "       [0.],\n",
              "       ...,\n",
              "       [0.],\n",
              "       [0.],\n",
              "       [0.]])"
            ]
          },
          "metadata": {},
          "execution_count": 67
        }
      ]
    },
    {
      "cell_type": "code",
      "source": [
        "# List of dependent variable names\n",
        "y_variables = ['y100', 'y200', 'y310', 'y320', 'y330', 'y340', 'y350', 'y400', 'y500', 'y600', 'y700']\n",
        "\n",
        "# Dictionary to store models and their parameters\n",
        "models = {}\n",
        "intercepts = {}\n",
        "coefficients = {}\n",
        "\n",
        "# Loop to create, fit models, and extract parameters\n",
        "for y_var in y_variables:\n",
        "    # Assuming you have the y data in a dictionary or similar structure\n",
        "    model = sm.OLS(globals()[y_var], X_scaler).fit()  # Using globals() to get variable by string name\n",
        "    models[y_var] = model\n",
        "    intercepts[y_var], coefficients[y_var] = model.params[0], model.params[0:]\n",
        "\n",
        "# Now, you can access each model, intercept, and coefficients like this:\n",
        "# models['y100'], intercepts['y100'], coefficients['y100']\n"
      ],
      "metadata": {
        "id": "aNSRUBMdIPOC"
      },
      "execution_count": null,
      "outputs": []
    },
    {
      "cell_type": "code",
      "source": [
        "# Print results for each model\n",
        "print(f\"Model: {intercepts}\")\n",
        "print(f\"Intercept (Beta_0): {coefficients}\")\n"
      ],
      "metadata": {
        "colab": {
          "base_uri": "https://localhost:8080/"
        },
        "id": "-RkteIBqCXrr",
        "outputId": "581076dc-98c8-4086-82c4-6304452e768d"
      },
      "execution_count": null,
      "outputs": [
        {
          "output_type": "stream",
          "name": "stdout",
          "text": [
            "Model: {'y100': -8.55435514091063e-17, 'y200': 0.0015328866951244814, 'y310': -0.039857331547352645, 'y320': -0.08806208190656485, 'y330': 0.006672354860356932, 'y340': -0.06560948078402433, 'y350': -0.007478516747971241, 'y400': 0.06627573513551299, 'y500': -0.0026470001599994968, 'y600': 0.024507810900407122, 'y700': -2.6980992675834164e-05}\n",
            "Intercept (Beta_0): {'y100': array([-8.55435514e-17,  5.53281921e-17,  5.94955942e-18, -1.24141149e-16,\n",
            "        1.14383329e-17, -6.22332047e-17,  6.59737022e-17, -4.75151602e-17,\n",
            "        1.38777878e-17, -1.53523028e-16,  8.62008490e-17,  1.89623491e-01]), 'y200': array([ 0.00153289, -0.00713646, -0.02089045,  0.00755164,  0.02451851,\n",
            "       -0.01105389,  0.02589342, -0.01271831, -0.02295846,  0.08430072,\n",
            "        0.00349763, -0.05908425]), 'y310': array([-0.03985733, -0.0030779 , -0.00018442,  0.02029202,  0.00392093,\n",
            "       -0.00519077, -0.00192987, -0.00213272, -0.00272418,  0.01525055,\n",
            "       -0.00618555, -0.01962694]), 'y320': array([-0.08806208,  0.00564658,  0.04349612, -0.09826546, -0.0289553 ,\n",
            "        0.0405137 , -0.01060734,  0.00081423, -0.02363708, -0.07636506,\n",
            "        0.01672266, -0.07127162]), 'y330': array([ 6.67235486e-03, -6.49234107e-04,  2.76541670e-03,  1.21089989e-02,\n",
            "        1.42541352e-03,  4.49926542e-03, -9.20065039e-03,  1.31394822e-02,\n",
            "        6.36919461e-05,  1.77598592e-03, -1.41125421e-02, -2.57541471e-04]), 'y340': array([-0.06560948,  0.00411317, -0.00498167,  0.00182234, -0.00627895,\n",
            "       -0.00423843, -0.00374286, -0.00422421,  0.00867063, -0.00448805,\n",
            "        0.00816144, -0.02496114]), 'y350': array([-0.00747852, -0.00025516,  0.00152073,  0.00651378,  0.00147073,\n",
            "        0.00340376, -0.00099202,  0.00343311,  0.00346353, -0.00174699,\n",
            "       -0.0071739 , -0.00316473]), 'y400': array([ 6.62757351e-02,  4.21318800e-03,  5.44878053e-04,  8.36607014e-02,\n",
            "       -1.74496378e-02, -1.65058789e-02, -1.19712120e-02,  7.44224716e-06,\n",
            "        1.47472416e-02,  2.30501751e-02, -2.36467984e-02,  4.03550204e-03]), 'y500': array([-0.002647  , -0.0006964 ,  0.00147061,  0.01114127, -0.00396792,\n",
            "       -0.00321345,  0.0011434 , -0.00562054,  0.00102544,  0.00086331,\n",
            "        0.0011619 ,  0.00017063]), 'y600': array([ 0.02450781, -0.00301171, -0.00703442,  0.0314819 , -0.00730733,\n",
            "       -0.003839  , -0.00627046,  0.00292982,  0.00472023,  0.01201462,\n",
            "       -0.01385021, -0.00020152]), 'y700': array([-2.69809927e-05, -2.84903906e-05,  2.32419020e-05,  1.88650522e-04,\n",
            "       -6.47430794e-05, -6.69387273e-05,  1.22468342e-05, -9.73777660e-05,\n",
            "        2.14134603e-05,  8.31503239e-06,  3.06892424e-07,  3.47143416e-06])}\n"
          ]
        }
      ]
    },
    {
      "cell_type": "code",
      "source": [
        "print(f\"Intercept (Beta_0): {coefficients}\")\n"
      ],
      "metadata": {
        "colab": {
          "base_uri": "https://localhost:8080/"
        },
        "id": "Sz7T1a3rLCdO",
        "outputId": "e7526fd9-f977-4346-f638-6b65a755d684"
      },
      "execution_count": null,
      "outputs": [
        {
          "output_type": "stream",
          "name": "stdout",
          "text": [
            "Intercept (Beta_0): {'y100': array([-8.55435514e-17,  5.53281921e-17,  5.94955942e-18, -1.24141149e-16,\n",
            "        1.14383329e-17, -6.22332047e-17,  6.59737022e-17, -4.75151602e-17,\n",
            "        1.38777878e-17, -1.53523028e-16,  8.62008490e-17,  1.89623491e-01]), 'y200': array([ 0.00153289, -0.00713646, -0.02089045,  0.00755164,  0.02451851,\n",
            "       -0.01105389,  0.02589342, -0.01271831, -0.02295846,  0.08430072,\n",
            "        0.00349763, -0.05908425]), 'y310': array([-0.03985733, -0.0030779 , -0.00018442,  0.02029202,  0.00392093,\n",
            "       -0.00519077, -0.00192987, -0.00213272, -0.00272418,  0.01525055,\n",
            "       -0.00618555, -0.01962694]), 'y320': array([-0.08806208,  0.00564658,  0.04349612, -0.09826546, -0.0289553 ,\n",
            "        0.0405137 , -0.01060734,  0.00081423, -0.02363708, -0.07636506,\n",
            "        0.01672266, -0.07127162]), 'y330': array([ 6.67235486e-03, -6.49234107e-04,  2.76541670e-03,  1.21089989e-02,\n",
            "        1.42541352e-03,  4.49926542e-03, -9.20065039e-03,  1.31394822e-02,\n",
            "        6.36919461e-05,  1.77598592e-03, -1.41125421e-02, -2.57541471e-04]), 'y340': array([-0.06560948,  0.00411317, -0.00498167,  0.00182234, -0.00627895,\n",
            "       -0.00423843, -0.00374286, -0.00422421,  0.00867063, -0.00448805,\n",
            "        0.00816144, -0.02496114]), 'y350': array([-0.00747852, -0.00025516,  0.00152073,  0.00651378,  0.00147073,\n",
            "        0.00340376, -0.00099202,  0.00343311,  0.00346353, -0.00174699,\n",
            "       -0.0071739 , -0.00316473]), 'y400': array([ 6.62757351e-02,  4.21318800e-03,  5.44878053e-04,  8.36607014e-02,\n",
            "       -1.74496378e-02, -1.65058789e-02, -1.19712120e-02,  7.44224716e-06,\n",
            "        1.47472416e-02,  2.30501751e-02, -2.36467984e-02,  4.03550204e-03]), 'y500': array([-0.002647  , -0.0006964 ,  0.00147061,  0.01114127, -0.00396792,\n",
            "       -0.00321345,  0.0011434 , -0.00562054,  0.00102544,  0.00086331,\n",
            "        0.0011619 ,  0.00017063]), 'y600': array([ 0.02450781, -0.00301171, -0.00703442,  0.0314819 , -0.00730733,\n",
            "       -0.003839  , -0.00627046,  0.00292982,  0.00472023,  0.01201462,\n",
            "       -0.01385021, -0.00020152]), 'y700': array([-2.69809927e-05, -2.84903906e-05,  2.32419020e-05,  1.88650522e-04,\n",
            "       -6.47430794e-05, -6.69387273e-05,  1.22468342e-05, -9.73777660e-05,\n",
            "        2.14134603e-05,  8.31503239e-06,  3.06892424e-07,  3.47143416e-06])}\n"
          ]
        }
      ]
    },
    {
      "cell_type": "code",
      "source": [
        "# Iterate over each model\n",
        "for y_var in y_variables:\n",
        "    # Get the intercept and coefficients for the current model\n",
        "    intercept = intercepts[y_var]\n",
        "    coefs = coefficients[y_var]\n",
        "\n",
        "    # Print the model name or number code\n",
        "    print(f\"{y_var.replace('y', '')}\\n\")\n",
        "\n",
        "    # Print the intercept (constant) with 5 decimal places\n",
        "    print(f\"{intercept:.5f}\\n\")\n",
        "\n",
        "    # Print the number of explanatory factors\n",
        "    print(f\"{len(coefs)}\\n\")\n",
        "\n",
        "    # Print the number code of explanatory factor and beta value for each explanatory factor\n",
        "    for idx, coef in enumerate(coefs):\n",
        "        print(f\"{coef:.5f} , {idx}\")\n",
        "\n",
        "    # Print a newline for separation between models\n",
        "    print(\"\\n\")\n"
      ],
      "metadata": {
        "colab": {
          "base_uri": "https://localhost:8080/"
        },
        "id": "UzhzmA5lM_Ye",
        "outputId": "0c4663a1-3bb4-401c-e48c-7eb78504149b"
      },
      "execution_count": null,
      "outputs": [
        {
          "output_type": "stream",
          "name": "stdout",
          "text": [
            "100\n",
            "\n",
            "-0.00000\n",
            "\n",
            "12\n",
            "\n",
            "-0.00000 , 0\n",
            "0.00000 , 1\n",
            "0.00000 , 2\n",
            "-0.00000 , 3\n",
            "0.00000 , 4\n",
            "-0.00000 , 5\n",
            "0.00000 , 6\n",
            "-0.00000 , 7\n",
            "0.00000 , 8\n",
            "-0.00000 , 9\n",
            "0.00000 , 10\n",
            "0.18962 , 11\n",
            "\n",
            "\n",
            "200\n",
            "\n",
            "0.00153\n",
            "\n",
            "12\n",
            "\n",
            "0.00153 , 0\n",
            "-0.00714 , 1\n",
            "-0.02089 , 2\n",
            "0.00755 , 3\n",
            "0.02452 , 4\n",
            "-0.01105 , 5\n",
            "0.02589 , 6\n",
            "-0.01272 , 7\n",
            "-0.02296 , 8\n",
            "0.08430 , 9\n",
            "0.00350 , 10\n",
            "-0.05908 , 11\n",
            "\n",
            "\n",
            "310\n",
            "\n",
            "-0.03986\n",
            "\n",
            "12\n",
            "\n",
            "-0.03986 , 0\n",
            "-0.00308 , 1\n",
            "-0.00018 , 2\n",
            "0.02029 , 3\n",
            "0.00392 , 4\n",
            "-0.00519 , 5\n",
            "-0.00193 , 6\n",
            "-0.00213 , 7\n",
            "-0.00272 , 8\n",
            "0.01525 , 9\n",
            "-0.00619 , 10\n",
            "-0.01963 , 11\n",
            "\n",
            "\n",
            "320\n",
            "\n",
            "-0.08806\n",
            "\n",
            "12\n",
            "\n",
            "-0.08806 , 0\n",
            "0.00565 , 1\n",
            "0.04350 , 2\n",
            "-0.09827 , 3\n",
            "-0.02896 , 4\n",
            "0.04051 , 5\n",
            "-0.01061 , 6\n",
            "0.00081 , 7\n",
            "-0.02364 , 8\n",
            "-0.07637 , 9\n",
            "0.01672 , 10\n",
            "-0.07127 , 11\n",
            "\n",
            "\n",
            "330\n",
            "\n",
            "0.00667\n",
            "\n",
            "12\n",
            "\n",
            "0.00667 , 0\n",
            "-0.00065 , 1\n",
            "0.00277 , 2\n",
            "0.01211 , 3\n",
            "0.00143 , 4\n",
            "0.00450 , 5\n",
            "-0.00920 , 6\n",
            "0.01314 , 7\n",
            "0.00006 , 8\n",
            "0.00178 , 9\n",
            "-0.01411 , 10\n",
            "-0.00026 , 11\n",
            "\n",
            "\n",
            "340\n",
            "\n",
            "-0.06561\n",
            "\n",
            "12\n",
            "\n",
            "-0.06561 , 0\n",
            "0.00411 , 1\n",
            "-0.00498 , 2\n",
            "0.00182 , 3\n",
            "-0.00628 , 4\n",
            "-0.00424 , 5\n",
            "-0.00374 , 6\n",
            "-0.00422 , 7\n",
            "0.00867 , 8\n",
            "-0.00449 , 9\n",
            "0.00816 , 10\n",
            "-0.02496 , 11\n",
            "\n",
            "\n",
            "350\n",
            "\n",
            "-0.00748\n",
            "\n",
            "12\n",
            "\n",
            "-0.00748 , 0\n",
            "-0.00026 , 1\n",
            "0.00152 , 2\n",
            "0.00651 , 3\n",
            "0.00147 , 4\n",
            "0.00340 , 5\n",
            "-0.00099 , 6\n",
            "0.00343 , 7\n",
            "0.00346 , 8\n",
            "-0.00175 , 9\n",
            "-0.00717 , 10\n",
            "-0.00316 , 11\n",
            "\n",
            "\n",
            "400\n",
            "\n",
            "0.06628\n",
            "\n",
            "12\n",
            "\n",
            "0.06628 , 0\n",
            "0.00421 , 1\n",
            "0.00054 , 2\n",
            "0.08366 , 3\n",
            "-0.01745 , 4\n",
            "-0.01651 , 5\n",
            "-0.01197 , 6\n",
            "0.00001 , 7\n",
            "0.01475 , 8\n",
            "0.02305 , 9\n",
            "-0.02365 , 10\n",
            "0.00404 , 11\n",
            "\n",
            "\n",
            "500\n",
            "\n",
            "-0.00265\n",
            "\n",
            "12\n",
            "\n",
            "-0.00265 , 0\n",
            "-0.00070 , 1\n",
            "0.00147 , 2\n",
            "0.01114 , 3\n",
            "-0.00397 , 4\n",
            "-0.00321 , 5\n",
            "0.00114 , 6\n",
            "-0.00562 , 7\n",
            "0.00103 , 8\n",
            "0.00086 , 9\n",
            "0.00116 , 10\n",
            "0.00017 , 11\n",
            "\n",
            "\n",
            "600\n",
            "\n",
            "0.02451\n",
            "\n",
            "12\n",
            "\n",
            "0.02451 , 0\n",
            "-0.00301 , 1\n",
            "-0.00703 , 2\n",
            "0.03148 , 3\n",
            "-0.00731 , 4\n",
            "-0.00384 , 5\n",
            "-0.00627 , 6\n",
            "0.00293 , 7\n",
            "0.00472 , 8\n",
            "0.01201 , 9\n",
            "-0.01385 , 10\n",
            "-0.00020 , 11\n",
            "\n",
            "\n",
            "700\n",
            "\n",
            "-0.00003\n",
            "\n",
            "12\n",
            "\n",
            "-0.00003 , 0\n",
            "-0.00003 , 1\n",
            "0.00002 , 2\n",
            "0.00019 , 3\n",
            "-0.00006 , 4\n",
            "-0.00007 , 5\n",
            "0.00001 , 6\n",
            "-0.00010 , 7\n",
            "0.00002 , 8\n",
            "0.00001 , 9\n",
            "0.00000 , 10\n",
            "0.00000 , 11\n",
            "\n",
            "\n"
          ]
        }
      ]
    },
    {
      "cell_type": "code",
      "source": [],
      "metadata": {
        "id": "ugBSfJDljs99"
      },
      "execution_count": null,
      "outputs": []
    }
  ]
}